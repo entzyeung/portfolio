{
 "cells": [
  {
   "cell_type": "code",
   "execution_count": 1,
   "id": "7feaf00c",
   "metadata": {},
   "outputs": [],
   "source": [
    "import numpy as np\n",
    "import pandas as pd"
   ]
  },
  {
   "cell_type": "markdown",
   "id": "296650e8",
   "metadata": {},
   "source": [
    "# For 3-word model names"
   ]
  },
  {
   "cell_type": "code",
   "execution_count": 4,
   "metadata": {},
   "outputs": [
    {
     "name": "stdout",
     "output_type": "stream",
     "text": [
      "0    [oneplus, 9rt, 5g]\n",
      "dtype: object\n",
      "1\n"
     ]
    }
   ],
   "source": [
    "models3 = [\n",
    "    \"OnePlus 9RT 5G\",\n",
    "    #\"Huawei P\"\n",
    "           ]\n",
    "model3 = [x.lower() for x in models3]\n",
    "model3 = pd.Series(model3)\n",
    "model3 = model3.str.split()\n",
    "print(model3)\n",
    "print(len(model3))\n"
   ]
  },
  {
   "cell_type": "code",
   "execution_count": 5,
   "id": "67fdcac6",
   "metadata": {},
   "outputs": [
    {
     "data": {
      "text/plain": [
       "[['oneplus9rt5g',\n",
       "  'oneplus9rt 5g',\n",
       "  'oneplus 5g',\n",
       "  'oneplus5g',\n",
       "  '9rt 5g',\n",
       "  '9rt5g']]"
      ]
     },
     "execution_count": 5,
     "metadata": {},
     "output_type": "execute_result"
    }
   ],
   "source": [
    "\n",
    "length = len(model3)\n",
    "ls3 = []\n",
    "\n",
    "for i in range(length):\n",
    "    s = [\n",
    "    #model3[i][0]+\" \"+model3[i][1]+\" \"+model3[i][2],\n",
    "    #model3[i][0]+\" \"+model3[i][1]+model3[i][2],\n",
    "    model3[i][0]+model3[i][1]+model3[i][2],\n",
    "    model3[i][0]+model3[i][1]+\" \"+model3[i][2],\n",
    "    \n",
    "    model3[i][0]+\" \"+model3[i][2],\n",
    "    model3[i][0]+model3[i][2],\n",
    "    \n",
    "    model3[i][1]+\" \"+model3[i][2],\n",
    "    model3[i][1]+model3[i][2]\n",
    "    ]\n",
    "    ls3.append(s)\n",
    "    \n",
    "ls3"
   ]
  },
  {
   "cell_type": "code",
   "execution_count": 7,
   "id": "f2b77147",
   "metadata": {},
   "outputs": [
    {
     "data": {
      "text/plain": [
       "[['oneplus 9rt 5g',\n",
       "  'oneplus9rt5g',\n",
       "  'oneplus9rt 5g',\n",
       "  'oneplus5g9rt',\n",
       "  'oneplus5g 9rt',\n",
       "  '9rtoneplus5g',\n",
       "  '9rtoneplus 5g',\n",
       "  '9rt5goneplus',\n",
       "  '9rt5g oneplus',\n",
       "  '5goneplus9rt',\n",
       "  '5goneplus 9rt',\n",
       "  '5g9rtoneplus',\n",
       "  '5g9rt oneplus',\n",
       "  'oneplus 5g',\n",
       "  'oneplus5g',\n",
       "  '5g oneplus',\n",
       "  '5goneplus',\n",
       "  '9rt 5g',\n",
       "  '9rt5g',\n",
       "  '5g 9rt',\n",
       "  '5g9rt']]"
      ]
     },
     "execution_count": 7,
     "metadata": {},
     "output_type": "execute_result"
    }
   ],
   "source": [
    "\n",
    "length = len(model3)\n",
    "ls3 = []\n",
    "\n",
    "for i in range(length):\n",
    "    s = [\n",
    "    #model3[i][0]+\" \"+model3[i][1]+\" \"+model3[i][2],\n",
    "    #model3[i][0]+\" \"+model3[i][1]+model3[i][2],\n",
    "    model3[i][0]+\" \"+model3[i][1]+\" \"+model3[i][2],\n",
    "\n",
    "    model3[i][0]+model3[i][1]+model3[i][2],\n",
    "    model3[i][0]+model3[i][1]+\" \"+model3[i][2],\n",
    "    model3[i][0]+model3[i][2]+model3[i][1],\n",
    "    model3[i][0]+model3[i][2]+\" \"+model3[i][1],\n",
    "    model3[i][1]+model3[i][0]+model3[i][2],\n",
    "    model3[i][1]+model3[i][0]+\" \"+model3[i][2],\n",
    "    model3[i][1]+model3[i][2]+model3[i][0],\n",
    "    model3[i][1]+model3[i][2]+\" \"+model3[i][0],\n",
    "    model3[i][2]+model3[i][0]+model3[i][1],\n",
    "    model3[i][2]+model3[i][0]+\" \"+model3[i][1],\n",
    "    model3[i][2]+model3[i][1]+model3[i][0],\n",
    "    model3[i][2]+model3[i][1]+\" \"+model3[i][0],\n",
    "\n",
    "    model3[i][0]+\" \"+model3[i][2],\n",
    "    model3[i][0]+model3[i][2],\n",
    "    model3[i][2]+\" \"+model3[i][0],\n",
    "    model3[i][2]+model3[i][0],\n",
    "\n",
    "    model3[i][1]+\" \"+model3[i][2],\n",
    "    model3[i][1]+model3[i][2],\n",
    "    model3[i][2]+\" \"+model3[i][1],\n",
    "    model3[i][2]+model3[i][1]\n",
    "    ]\n",
    "    ls3.append(s)\n",
    "\n",
    "ls3"
   ]
  },
  {
   "cell_type": "code",
   "execution_count": 22,
   "id": "e1a8ca01",
   "metadata": {},
   "outputs": [
    {
     "data": {
      "text/html": [
       "<div>\n",
       "<style scoped>\n",
       "    .dataframe tbody tr th:only-of-type {\n",
       "        vertical-align: middle;\n",
       "    }\n",
       "\n",
       "    .dataframe tbody tr th {\n",
       "        vertical-align: top;\n",
       "    }\n",
       "\n",
       "    .dataframe thead th {\n",
       "        text-align: right;\n",
       "    }\n",
       "</style>\n",
       "<table border=\"1\" class=\"dataframe\">\n",
       "  <thead>\n",
       "    <tr style=\"text-align: right;\">\n",
       "      <th></th>\n",
       "      <th>OnePlus 9RT 5G</th>\n",
       "    </tr>\n",
       "  </thead>\n",
       "  <tbody>\n",
       "    <tr>\n",
       "      <th>0</th>\n",
       "      <td>oneplus9rt5g</td>\n",
       "    </tr>\n",
       "    <tr>\n",
       "      <th>1</th>\n",
       "      <td>oneplus9rt 5g</td>\n",
       "    </tr>\n",
       "    <tr>\n",
       "      <th>2</th>\n",
       "      <td>oneplus 5g</td>\n",
       "    </tr>\n",
       "    <tr>\n",
       "      <th>3</th>\n",
       "      <td>oneplus5g</td>\n",
       "    </tr>\n",
       "    <tr>\n",
       "      <th>4</th>\n",
       "      <td>9rt 5g</td>\n",
       "    </tr>\n",
       "    <tr>\n",
       "      <th>5</th>\n",
       "      <td>9rt5g</td>\n",
       "    </tr>\n",
       "  </tbody>\n",
       "</table>\n",
       "</div>"
      ],
      "text/plain": [
       "  OnePlus 9RT 5G\n",
       "0   oneplus9rt5g\n",
       "1  oneplus9rt 5g\n",
       "2     oneplus 5g\n",
       "3      oneplus5g\n",
       "4         9rt 5g\n",
       "5          9rt5g"
      ]
     },
     "execution_count": 22,
     "metadata": {},
     "output_type": "execute_result"
    }
   ],
   "source": [
    "df3 = pd.DataFrame (ls3).transpose()\n",
    "df3.columns = models3\n",
    "df3"
   ]
  },
  {
   "cell_type": "code",
   "execution_count": 23,
   "metadata": {},
   "outputs": [],
   "source": [
    "df3.to_csv(\"keyword_mixer_3-word.csv\", index=False, header=False)"
   ]
  },
  {
   "cell_type": "code",
   "execution_count": null,
   "metadata": {},
   "outputs": [],
   "source": []
  },
  {
   "cell_type": "markdown",
   "id": "a18de523",
   "metadata": {},
   "source": [
    "# For 4-word model names"
   ]
  },
  {
   "cell_type": "code",
   "execution_count": 16,
   "metadata": {},
   "outputs": [
    {
     "name": "stdout",
     "output_type": "stream",
     "text": [
      "0      [oneplus, nord, ce, 5g]\n",
      "1    [oneplus, nord, n200, 5g]\n",
      "2       [oneplus, nord, 2, 5g]\n",
      "dtype: object\n",
      "3\n"
     ]
    }
   ],
   "source": [
    "models4 = [\"Oneplus Nord CE 5g\",\n",
    "           \"Oneplus Nord N200 5G\",\n",
    "           \"Oneplus Nord 2 5G\",\n",
    "           ]\n",
    "model4 = [x.lower() for x in models4]\n",
    "model4 = pd.Series(model4)\n",
    "model4 = model4.str.split()\n",
    "print(model4)\n",
    "\n",
    "print(len(model4))"
   ]
  },
  {
   "cell_type": "code",
   "execution_count": 17,
   "id": "892b8184",
   "metadata": {},
   "outputs": [
    {
     "data": {
      "text/plain": [
       "[['oneplusnordce5g',\n",
       "  'oneplusnordce 5g',\n",
       "  'oneplusnord ce 5g',\n",
       "  'oneplus ce 5g',\n",
       "  'oneplus ce5g',\n",
       "  'oneplusce5g',\n",
       "  'oneplusce 5g',\n",
       "  'nord ce 5g',\n",
       "  'nord ce5g',\n",
       "  'nordce5g',\n",
       "  'nordce 5g'],\n",
       " ['oneplusnordn2005g',\n",
       "  'oneplusnordn200 5g',\n",
       "  'oneplusnord n200 5g',\n",
       "  'oneplus n200 5g',\n",
       "  'oneplus n2005g',\n",
       "  'oneplusn2005g',\n",
       "  'oneplusn200 5g',\n",
       "  'nord n200 5g',\n",
       "  'nord n2005g',\n",
       "  'nordn2005g',\n",
       "  'nordn200 5g'],\n",
       " ['oneplusnord25g',\n",
       "  'oneplusnord2 5g',\n",
       "  'oneplusnord 2 5g',\n",
       "  'oneplus 2 5g',\n",
       "  'oneplus 25g',\n",
       "  'oneplus25g',\n",
       "  'oneplus2 5g',\n",
       "  'nord 2 5g',\n",
       "  'nord 25g',\n",
       "  'nord25g',\n",
       "  'nord2 5g']]"
      ]
     },
     "execution_count": 17,
     "metadata": {},
     "output_type": "execute_result"
    }
   ],
   "source": [
    "\n",
    "length = len(model4)\n",
    "ls4 = []\n",
    "\n",
    "for i in range(length):\n",
    "    s = [\n",
    "    #model4[i][0]+\" \"+model4[i][1]+\" \"+model4[i][2]+\" \"+model4[i][3],\n",
    "    #model4[i][0]+\" \"+model4[i][1]+\" \"+model4[i][2]+model4[i][3],\n",
    "    #model4[i][0]+\" \"+model4[i][1]+model4[i][2]+model4[i][3],\n",
    "    model4[i][0]+model4[i][1]+model4[i][2]+model4[i][3],\n",
    "    model4[i][0]+model4[i][1]+model4[i][2]+\" \"+model4[i][3],\n",
    "    model4[i][0]+model4[i][1]+\" \"+model4[i][2]+\" \"+model4[i][3],\n",
    "    #model4[i][0]+\" \"+model4[i][1]+model4[i][2]+\" \"+model4[i][3],\n",
    "    \n",
    "    model4[i][0]+\" \"+model4[i][2]+\" \"+model4[i][3],\n",
    "    model4[i][0]+\" \"+model4[i][2]+model4[i][3],\n",
    "    model4[i][0]+model4[i][2]+model4[i][3],\n",
    "    model4[i][0]+model4[i][2]+\" \"+model4[i][3],\n",
    "    \n",
    "    model4[i][1]+\" \"+model4[i][2]+\" \"+model4[i][3],\n",
    "    model4[i][1]+\" \"+model4[i][2]+model4[i][3],\n",
    "    model4[i][1]+model4[i][2]+model4[i][3],\n",
    "    model4[i][1]+model4[i][2]+\" \"+model4[i][3],\n",
    "    ]\n",
    "    ls4.append(s)\n",
    "    \n",
    "ls4"
   ]
  },
  {
   "cell_type": "code",
   "execution_count": 18,
   "id": "afd446aa",
   "metadata": {},
   "outputs": [
    {
     "data": {
      "text/html": [
       "<div>\n",
       "<style scoped>\n",
       "    .dataframe tbody tr th:only-of-type {\n",
       "        vertical-align: middle;\n",
       "    }\n",
       "\n",
       "    .dataframe tbody tr th {\n",
       "        vertical-align: top;\n",
       "    }\n",
       "\n",
       "    .dataframe thead th {\n",
       "        text-align: right;\n",
       "    }\n",
       "</style>\n",
       "<table border=\"1\" class=\"dataframe\">\n",
       "  <thead>\n",
       "    <tr style=\"text-align: right;\">\n",
       "      <th></th>\n",
       "      <th>Oneplus Nord CE 5g</th>\n",
       "      <th>Oneplus Nord N200 5G</th>\n",
       "      <th>Oneplus Nord 2 5G</th>\n",
       "    </tr>\n",
       "  </thead>\n",
       "  <tbody>\n",
       "    <tr>\n",
       "      <th>0</th>\n",
       "      <td>oneplusnordce5g</td>\n",
       "      <td>oneplusnordn2005g</td>\n",
       "      <td>oneplusnord25g</td>\n",
       "    </tr>\n",
       "    <tr>\n",
       "      <th>1</th>\n",
       "      <td>oneplusnordce 5g</td>\n",
       "      <td>oneplusnordn200 5g</td>\n",
       "      <td>oneplusnord2 5g</td>\n",
       "    </tr>\n",
       "    <tr>\n",
       "      <th>2</th>\n",
       "      <td>oneplusnord ce 5g</td>\n",
       "      <td>oneplusnord n200 5g</td>\n",
       "      <td>oneplusnord 2 5g</td>\n",
       "    </tr>\n",
       "    <tr>\n",
       "      <th>3</th>\n",
       "      <td>oneplus ce 5g</td>\n",
       "      <td>oneplus n200 5g</td>\n",
       "      <td>oneplus 2 5g</td>\n",
       "    </tr>\n",
       "    <tr>\n",
       "      <th>4</th>\n",
       "      <td>oneplus ce5g</td>\n",
       "      <td>oneplus n2005g</td>\n",
       "      <td>oneplus 25g</td>\n",
       "    </tr>\n",
       "    <tr>\n",
       "      <th>5</th>\n",
       "      <td>oneplusce5g</td>\n",
       "      <td>oneplusn2005g</td>\n",
       "      <td>oneplus25g</td>\n",
       "    </tr>\n",
       "    <tr>\n",
       "      <th>6</th>\n",
       "      <td>oneplusce 5g</td>\n",
       "      <td>oneplusn200 5g</td>\n",
       "      <td>oneplus2 5g</td>\n",
       "    </tr>\n",
       "    <tr>\n",
       "      <th>7</th>\n",
       "      <td>nord ce 5g</td>\n",
       "      <td>nord n200 5g</td>\n",
       "      <td>nord 2 5g</td>\n",
       "    </tr>\n",
       "    <tr>\n",
       "      <th>8</th>\n",
       "      <td>nord ce5g</td>\n",
       "      <td>nord n2005g</td>\n",
       "      <td>nord 25g</td>\n",
       "    </tr>\n",
       "    <tr>\n",
       "      <th>9</th>\n",
       "      <td>nordce5g</td>\n",
       "      <td>nordn2005g</td>\n",
       "      <td>nord25g</td>\n",
       "    </tr>\n",
       "    <tr>\n",
       "      <th>10</th>\n",
       "      <td>nordce 5g</td>\n",
       "      <td>nordn200 5g</td>\n",
       "      <td>nord2 5g</td>\n",
       "    </tr>\n",
       "  </tbody>\n",
       "</table>\n",
       "</div>"
      ],
      "text/plain": [
       "   Oneplus Nord CE 5g Oneplus Nord N200 5G Oneplus Nord 2 5G\n",
       "0     oneplusnordce5g    oneplusnordn2005g    oneplusnord25g\n",
       "1    oneplusnordce 5g   oneplusnordn200 5g   oneplusnord2 5g\n",
       "2   oneplusnord ce 5g  oneplusnord n200 5g  oneplusnord 2 5g\n",
       "3       oneplus ce 5g      oneplus n200 5g      oneplus 2 5g\n",
       "4        oneplus ce5g       oneplus n2005g       oneplus 25g\n",
       "5         oneplusce5g        oneplusn2005g        oneplus25g\n",
       "6        oneplusce 5g       oneplusn200 5g       oneplus2 5g\n",
       "7          nord ce 5g         nord n200 5g         nord 2 5g\n",
       "8           nord ce5g          nord n2005g          nord 25g\n",
       "9            nordce5g           nordn2005g           nord25g\n",
       "10          nordce 5g          nordn200 5g          nord2 5g"
      ]
     },
     "execution_count": 18,
     "metadata": {},
     "output_type": "execute_result"
    }
   ],
   "source": [
    "df4 = pd.DataFrame (ls4).transpose()\n",
    "df4.columns = models4\n",
    "df4"
   ]
  },
  {
   "cell_type": "code",
   "execution_count": 19,
   "id": "a6c0d60c",
   "metadata": {},
   "outputs": [],
   "source": [
    "df4.to_csv(\"keyword_mixer_4-word.csv\", index=False, header=False)"
   ]
  },
  {
   "cell_type": "code",
   "execution_count": null,
   "id": "f16cad6a",
   "metadata": {},
   "outputs": [],
   "source": []
  },
  {
   "cell_type": "markdown",
   "id": "f113eb09",
   "metadata": {},
   "source": [
    "# For 5-word model names\n"
   ]
  },
  {
   "cell_type": "code",
   "execution_count": 10,
   "id": "4f3fd94e",
   "metadata": {},
   "outputs": [
    {
     "name": "stdout",
     "output_type": "stream",
     "text": [
      "0    [huawei, mate, 40, pro, 4g]\n",
      "dtype: object\n",
      "1\n"
     ]
    }
   ],
   "source": [
    "models5 = [\n",
    "    \"Huawei Mate 40 Pro 4G\",\n",
    "           ]\n",
    "model5 = [x.lower() for x in models5]\n",
    "model5 = pd.Series(model5)\n",
    "model5 = model5.str.split()\n",
    "print(model5)\n",
    "print(len(model5))"
   ]
  },
  {
   "cell_type": "code",
   "execution_count": 11,
   "id": "f9ed154a",
   "metadata": {},
   "outputs": [
    {
     "data": {
      "text/plain": [
       "[['huawei mate 40 pro 4g',\n",
       "  'huawei mate 40 pro4g',\n",
       "  'huawei mate 40pro4g',\n",
       "  'huawei mate40pro4g',\n",
       "  'huaweimate40pro4g',\n",
       "  'huaweimate40pro 4g',\n",
       "  'huaweimate40 pro 4g',\n",
       "  'huaweimate 40 pro 4g',\n",
       "  'huawei mate 40pro 4g',\n",
       "  'huawei mate40pro 4g',\n",
       "  'huawei mate40 pro 4g',\n",
       "  'huawei 40 pro 4g',\n",
       "  'huawei 40 pro4g',\n",
       "  'huawei 40pro4g',\n",
       "  'huawei40pro4g',\n",
       "  'huawei40 pro4g',\n",
       "  'huawei40 pro 4g',\n",
       "  'mate 40 pro 4g',\n",
       "  'mate 40 pro4g',\n",
       "  'mate 40pro4g',\n",
       "  'mate40pro4g',\n",
       "  'mate40 pro4g',\n",
       "  'mate40 pro 4g']]"
      ]
     },
     "execution_count": 11,
     "metadata": {},
     "output_type": "execute_result"
    }
   ],
   "source": [
    "length5 = len(model5)\n",
    "ls5 = []\n",
    "\n",
    "for i in range(length5):\n",
    "    s = [\n",
    "    #model5[i][0]+\" \"+model5[i][1]+\" \"+model5[i][2]+\" \"+model5[i][3]+\" \"+model5[i][4],\n",
    "    #model5[i][0]+\" \"+model5[i][1]+\" \"+model5[i][2]+\" \"+model5[i][3]+model5[i][4],\n",
    "    #model5[i][0]+\" \"+model5[i][1]+\" \"+model5[i][2]+model5[i][3]+model5[i][4],\n",
    "    #model5[i][0]+\" \"+model5[i][1]+model5[i][2]+model5[i][3]+model5[i][4],\n",
    "    model5[i][0]+model5[i][1]+model5[i][2]+model5[i][3]+model5[i][4],\n",
    "    model5[i][0]+model5[i][1]+model5[i][2]+model5[i][3]+\" \"+model5[i][4],\n",
    "    model5[i][0]+model5[i][1]+model5[i][2]+\" \"+model5[i][3]+\" \"+model5[i][4],\n",
    "    model5[i][0]+model5[i][1]+\" \"+model5[i][2]+\" \"+model5[i][3]+\" \"+model5[i][4],\n",
    "    \n",
    "    model5[i][0]+\" \"+model5[i][1]+\" \"+model5[i][2]+model5[i][3]+\" \"+model5[i][4],\n",
    "    model5[i][0]+\" \"+model5[i][1]+model5[i][2]+model5[i][3]+\" \"+model5[i][4],\n",
    "    #model5[i][0]+\" \"+model5[i][1]+model5[i][2]+\" \"+model5[i][3]+\" \"+model5[i][4],\n",
    "\n",
    "    model5[i][0]+\" \"+model5[i][2]+\" \"+model5[i][3]+\" \"+model5[i][4],\n",
    "    model5[i][0]+\" \"+model5[i][2]+\" \"+model5[i][3]+model5[i][4],\n",
    "    model5[i][0]+\" \"+model5[i][2]+model5[i][3]+model5[i][4],\n",
    "    model5[i][0]+model5[i][2]+model5[i][3]+model5[i][4],\n",
    "    model5[i][0]+model5[i][2]+\" \"+model5[i][3]+model5[i][4],\n",
    "    model5[i][0]+model5[i][2]+\" \"+model5[i][3]+\" \"+model5[i][4],\n",
    "    \n",
    "    model5[i][1]+\" \"+model5[i][2]+\" \"+model5[i][3]+\" \"+model5[i][4],\n",
    "    model5[i][1]+\" \"+model5[i][2]+\" \"+model5[i][3]+model5[i][4],\n",
    "    model5[i][1]+\" \"+model5[i][2]+model5[i][3]+model5[i][4],\n",
    "    model5[i][1]+model5[i][2]+model5[i][3]+model5[i][4],\n",
    "    model5[i][1]+model5[i][2]+\" \"+model5[i][3]+model5[i][4],\n",
    "    model5[i][1]+model5[i][2]+\" \"+model5[i][3]+\" \"+model5[i][4],\n",
    "    ]\n",
    "    ls5.append(s)\n",
    "    \n",
    "ls5 "
   ]
  },
  {
   "cell_type": "code",
   "execution_count": 12,
   "id": "0349602f",
   "metadata": {},
   "outputs": [
    {
     "data": {
      "text/html": [
       "<div>\n",
       "<style scoped>\n",
       "    .dataframe tbody tr th:only-of-type {\n",
       "        vertical-align: middle;\n",
       "    }\n",
       "\n",
       "    .dataframe tbody tr th {\n",
       "        vertical-align: top;\n",
       "    }\n",
       "\n",
       "    .dataframe thead th {\n",
       "        text-align: right;\n",
       "    }\n",
       "</style>\n",
       "<table border=\"1\" class=\"dataframe\">\n",
       "  <thead>\n",
       "    <tr style=\"text-align: right;\">\n",
       "      <th></th>\n",
       "      <th>Huawei Mate 40 Pro 4G</th>\n",
       "    </tr>\n",
       "  </thead>\n",
       "  <tbody>\n",
       "    <tr>\n",
       "      <th>0</th>\n",
       "      <td>huawei mate 40 pro 4g</td>\n",
       "    </tr>\n",
       "    <tr>\n",
       "      <th>1</th>\n",
       "      <td>huawei mate 40 pro4g</td>\n",
       "    </tr>\n",
       "    <tr>\n",
       "      <th>2</th>\n",
       "      <td>huawei mate 40pro4g</td>\n",
       "    </tr>\n",
       "    <tr>\n",
       "      <th>3</th>\n",
       "      <td>huawei mate40pro4g</td>\n",
       "    </tr>\n",
       "    <tr>\n",
       "      <th>4</th>\n",
       "      <td>huaweimate40pro4g</td>\n",
       "    </tr>\n",
       "    <tr>\n",
       "      <th>5</th>\n",
       "      <td>huaweimate40pro 4g</td>\n",
       "    </tr>\n",
       "    <tr>\n",
       "      <th>6</th>\n",
       "      <td>huaweimate40 pro 4g</td>\n",
       "    </tr>\n",
       "    <tr>\n",
       "      <th>7</th>\n",
       "      <td>huaweimate 40 pro 4g</td>\n",
       "    </tr>\n",
       "    <tr>\n",
       "      <th>8</th>\n",
       "      <td>huawei mate 40pro 4g</td>\n",
       "    </tr>\n",
       "    <tr>\n",
       "      <th>9</th>\n",
       "      <td>huawei mate40pro 4g</td>\n",
       "    </tr>\n",
       "    <tr>\n",
       "      <th>10</th>\n",
       "      <td>huawei mate40 pro 4g</td>\n",
       "    </tr>\n",
       "    <tr>\n",
       "      <th>11</th>\n",
       "      <td>huawei 40 pro 4g</td>\n",
       "    </tr>\n",
       "    <tr>\n",
       "      <th>12</th>\n",
       "      <td>huawei 40 pro4g</td>\n",
       "    </tr>\n",
       "    <tr>\n",
       "      <th>13</th>\n",
       "      <td>huawei 40pro4g</td>\n",
       "    </tr>\n",
       "    <tr>\n",
       "      <th>14</th>\n",
       "      <td>huawei40pro4g</td>\n",
       "    </tr>\n",
       "    <tr>\n",
       "      <th>15</th>\n",
       "      <td>huawei40 pro4g</td>\n",
       "    </tr>\n",
       "    <tr>\n",
       "      <th>16</th>\n",
       "      <td>huawei40 pro 4g</td>\n",
       "    </tr>\n",
       "    <tr>\n",
       "      <th>17</th>\n",
       "      <td>mate 40 pro 4g</td>\n",
       "    </tr>\n",
       "    <tr>\n",
       "      <th>18</th>\n",
       "      <td>mate 40 pro4g</td>\n",
       "    </tr>\n",
       "    <tr>\n",
       "      <th>19</th>\n",
       "      <td>mate 40pro4g</td>\n",
       "    </tr>\n",
       "    <tr>\n",
       "      <th>20</th>\n",
       "      <td>mate40pro4g</td>\n",
       "    </tr>\n",
       "    <tr>\n",
       "      <th>21</th>\n",
       "      <td>mate40 pro4g</td>\n",
       "    </tr>\n",
       "    <tr>\n",
       "      <th>22</th>\n",
       "      <td>mate40 pro 4g</td>\n",
       "    </tr>\n",
       "  </tbody>\n",
       "</table>\n",
       "</div>"
      ],
      "text/plain": [
       "    Huawei Mate 40 Pro 4G\n",
       "0   huawei mate 40 pro 4g\n",
       "1    huawei mate 40 pro4g\n",
       "2     huawei mate 40pro4g\n",
       "3      huawei mate40pro4g\n",
       "4       huaweimate40pro4g\n",
       "5      huaweimate40pro 4g\n",
       "6     huaweimate40 pro 4g\n",
       "7    huaweimate 40 pro 4g\n",
       "8    huawei mate 40pro 4g\n",
       "9     huawei mate40pro 4g\n",
       "10   huawei mate40 pro 4g\n",
       "11       huawei 40 pro 4g\n",
       "12        huawei 40 pro4g\n",
       "13         huawei 40pro4g\n",
       "14          huawei40pro4g\n",
       "15         huawei40 pro4g\n",
       "16        huawei40 pro 4g\n",
       "17         mate 40 pro 4g\n",
       "18          mate 40 pro4g\n",
       "19           mate 40pro4g\n",
       "20            mate40pro4g\n",
       "21           mate40 pro4g\n",
       "22          mate40 pro 4g"
      ]
     },
     "execution_count": 12,
     "metadata": {},
     "output_type": "execute_result"
    }
   ],
   "source": [
    "df5 = pd.DataFrame (ls5).transpose()\n",
    "df5.columns = models5\n",
    "df5"
   ]
  },
  {
   "cell_type": "code",
   "execution_count": 13,
   "id": "fb6491ef",
   "metadata": {},
   "outputs": [],
   "source": [
    "df5.to_csv(\"keyword_mixer_5-word.csv\", index=False, header=False)"
   ]
  },
  {
   "cell_type": "markdown",
   "id": "ec33f4c0",
   "metadata": {},
   "source": []
  }
 ],
 "metadata": {
  "kernelspec": {
   "display_name": "base",
   "language": "python",
   "name": "python3"
  },
  "language_info": {
   "codemirror_mode": {
    "name": "ipython",
    "version": 3
   },
   "file_extension": ".py",
   "mimetype": "text/x-python",
   "name": "python",
   "nbconvert_exporter": "python",
   "pygments_lexer": "ipython3",
   "version": "3.9.13"
  },
  "toc-autonumbering": true,
  "toc-showcode": false,
  "toc-showmarkdowntxt": false,
  "vscode": {
   "interpreter": {
    "hash": "7b70f7e0e008a3139d3d462399ce731c1fad4adb90df62ffad1bc257c27878c6"
   }
  }
 },
 "nbformat": 4,
 "nbformat_minor": 5
}
