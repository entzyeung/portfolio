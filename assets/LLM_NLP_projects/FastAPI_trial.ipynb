{
 "cells": [
  {
   "cell_type": "markdown",
   "metadata": {},
   "source": [
    "\n",
    "\n",
    "![](https://res.cloudinary.com/practicaldev/image/fetch/s--2ndufzvN--/c_imagga_scale,f_auto,fl_progressive,h_420,q_auto,w_1000/https://dev-to-uploads.s3.amazonaws.com/i/8g8jzmrjtkau8sxgasei.jpg)"
   ]
  },
  {
   "cell_type": "markdown",
   "metadata": {},
   "source": [
    "\n",
    "<style>\n",
    "h1 {text-align: center;}\n",
    "p {text-align: center;}\n",
    "div {text-align: center;}\n",
    "</style>\n",
    "\n",
    "\n",
    "<h1>Entz's FastAPI model try out</h1>\n",
    "<div>My FastAPI location</div>\n",
    "<a href>https://nlp_api.deta.dev/docs</a>\n"
   ]
  },
  {
   "cell_type": "code",
   "execution_count": 1,
   "metadata": {},
   "outputs": [],
   "source": [
    "import requests"
   ]
  },
  {
   "cell_type": "code",
   "execution_count": 5,
   "metadata": {},
   "outputs": [
    {
     "name": "stdout",
     "output_type": "stream",
     "text": [
      "{\"'real-world object'\": [{'A named entity': 'Kaggle Competition', 'Label': 'ORG'}], 'tokens': [{'Token': 'I', 'Part of Speech': 'PRON', 'Dependency Parsing': 'nsubjpass'}, {'Token': 'am', 'Part of Speech': 'AUX', 'Dependency Parsing': 'auxpass'}, {'Token': 'ranked', 'Part of Speech': 'VERB', 'Dependency Parsing': 'ROOT'}, {'Token': '7', 'Part of Speech': 'NUM', 'Dependency Parsing': 'oprd'}, {'Token': 'in', 'Part of Speech': 'ADP', 'Dependency Parsing': 'prep'}, {'Token': 'a', 'Part of Speech': 'DET', 'Dependency Parsing': 'det'}, {'Token': 'Kaggle', 'Part of Speech': 'PROPN', 'Dependency Parsing': 'compound'}, {'Token': 'Competition', 'Part of Speech': 'PROPN', 'Dependency Parsing': 'pobj'}], 'comments': ['FAST', 'XGBOOST', 'OPTIMIZED']}\n"
     ]
    }
   ],
   "source": [
    "test = [{\"content\":\"I am ranked 7 in a Kaggle Competition\",\n",
    "            \"comments\":[\"fast\", \"xgboost\", \"optimized\"]}]\n",
    "\n",
    "article = requests.post(\"https://nlp_api.deta.dev/nlp/\",json=test)\n",
    "print(article.json())\n",
    "\n",
    "data_dict = article.json() # get the json() content from article.\n",
    "\n"
   ]
  },
  {
   "cell_type": "markdown",
   "metadata": {},
   "source": [
    "# Pretty Print"
   ]
  },
  {
   "cell_type": "code",
   "execution_count": 6,
   "metadata": {},
   "outputs": [
    {
     "name": "stdout",
     "output_type": "stream",
     "text": [
      "{\n",
      "    \"'real-world object'\": [\n",
      "        {\n",
      "            \"A named entity\": \"Kaggle Competition\",\n",
      "            \"Label\": \"ORG\"\n",
      "        }\n",
      "    ],\n",
      "    \"tokens\": [\n",
      "        {\n",
      "            \"Token\": \"I\",\n",
      "            \"Part of Speech\": \"PRON\",\n",
      "            \"Dependency Parsing\": \"nsubjpass\"\n",
      "        },\n",
      "        {\n",
      "            \"Token\": \"am\",\n",
      "            \"Part of Speech\": \"AUX\",\n",
      "            \"Dependency Parsing\": \"auxpass\"\n",
      "        },\n",
      "        {\n",
      "            \"Token\": \"ranked\",\n",
      "            \"Part of Speech\": \"VERB\",\n",
      "            \"Dependency Parsing\": \"ROOT\"\n",
      "        },\n",
      "        {\n",
      "            \"Token\": \"7\",\n",
      "            \"Part of Speech\": \"NUM\",\n",
      "            \"Dependency Parsing\": \"oprd\"\n",
      "        },\n",
      "        {\n",
      "            \"Token\": \"in\",\n",
      "            \"Part of Speech\": \"ADP\",\n",
      "            \"Dependency Parsing\": \"prep\"\n",
      "        },\n",
      "        {\n",
      "            \"Token\": \"a\",\n",
      "            \"Part of Speech\": \"DET\",\n",
      "            \"Dependency Parsing\": \"det\"\n",
      "        },\n",
      "        {\n",
      "            \"Token\": \"Kaggle\",\n",
      "            \"Part of Speech\": \"PROPN\",\n",
      "            \"Dependency Parsing\": \"compound\"\n",
      "        },\n",
      "        {\n",
      "            \"Token\": \"Competition\",\n",
      "            \"Part of Speech\": \"PROPN\",\n",
      "            \"Dependency Parsing\": \"pobj\"\n",
      "        }\n",
      "    ],\n",
      "    \"comments\": [\n",
      "        \"FAST\",\n",
      "        \"XGBOOST\",\n",
      "        \"OPTIMIZED\"\n",
      "    ]\n",
      "}\n"
     ]
    }
   ],
   "source": [
    "import json\n",
    "y = json.dumps(data_dict)\n",
    "\n",
    "parsed = json.loads(y)\n",
    "print(json.dumps(parsed, indent=4))\n"
   ]
  },
  {
   "cell_type": "code",
   "execution_count": null,
   "metadata": {},
   "outputs": [],
   "source": []
  },
  {
   "cell_type": "code",
   "execution_count": null,
   "metadata": {},
   "outputs": [],
   "source": []
  }
 ],
 "metadata": {
  "kernelspec": {
   "display_name": "Python 3.8.12 ('xgboost')",
   "language": "python",
   "name": "python3"
  },
  "language_info": {
   "codemirror_mode": {
    "name": "ipython",
    "version": 3
   },
   "file_extension": ".py",
   "mimetype": "text/x-python",
   "name": "python",
   "nbconvert_exporter": "python",
   "pygments_lexer": "ipython3",
   "version": "3.8.12"
  },
  "orig_nbformat": 4,
  "vscode": {
   "interpreter": {
    "hash": "eb42d2973ed35a65726541d7f4fdf57e9306109b0602f3adf1cc04a507b50566"
   }
  }
 },
 "nbformat": 4,
 "nbformat_minor": 2
}
